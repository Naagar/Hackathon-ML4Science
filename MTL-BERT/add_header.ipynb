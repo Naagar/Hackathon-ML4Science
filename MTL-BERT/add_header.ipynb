{
 "cells": [
  {
   "cell_type": "code",
   "execution_count": 1,
   "metadata": {},
   "outputs": [],
   "source": [
    "import pandas as pd"
   ]
  },
  {
   "cell_type": "code",
   "execution_count": 2,
   "metadata": {},
   "outputs": [],
   "source": [
    "# read contents of csv file\n",
    "file = pd.read_csv(\"dataset_train.csv\")\n",
    "# adding header\n",
    "headerList = ['CAN_SMILES', 'prop_1', 'prop_2','prop_3','prop_4']\n",
    "\n",
    "# converting data frame to csv\n",
    "file.to_csv(\"dataset_train2.csv\", header=headerList, index=False)\n"
   ]
  },
  {
   "cell_type": "code",
   "execution_count": 3,
   "metadata": {},
   "outputs": [
    {
     "data": {
      "text/html": [
       "<div>\n",
       "<style scoped>\n",
       "    .dataframe tbody tr th:only-of-type {\n",
       "        vertical-align: middle;\n",
       "    }\n",
       "\n",
       "    .dataframe tbody tr th {\n",
       "        vertical-align: top;\n",
       "    }\n",
       "\n",
       "    .dataframe thead th {\n",
       "        text-align: right;\n",
       "    }\n",
       "</style>\n",
       "<table border=\"1\" class=\"dataframe\">\n",
       "  <thead>\n",
       "    <tr style=\"text-align: right;\">\n",
       "      <th></th>\n",
       "      <th>CC1=CCCCO1</th>\n",
       "      <th>0.9344</th>\n",
       "      <th>0.3937</th>\n",
       "      <th>-2.7334576267</th>\n",
       "      <th>6.5316</th>\n",
       "    </tr>\n",
       "  </thead>\n",
       "  <tbody>\n",
       "    <tr>\n",
       "      <th>0</th>\n",
       "      <td>CC(=NN)N1CC1</td>\n",
       "      <td>1.1205</td>\n",
       "      <td>0.36672</td>\n",
       "      <td>-2.379820</td>\n",
       "      <td>6.0081</td>\n",
       "    </tr>\n",
       "    <tr>\n",
       "      <th>1</th>\n",
       "      <td>NN1C=CCC1=O</td>\n",
       "      <td>4.6177</td>\n",
       "      <td>0.35704</td>\n",
       "      <td>-2.109228</td>\n",
       "      <td>5.4297</td>\n",
       "    </tr>\n",
       "    <tr>\n",
       "      <th>2</th>\n",
       "      <td>OC(=O)C(=O)C=C</td>\n",
       "      <td>1.0933</td>\n",
       "      <td>0.31060</td>\n",
       "      <td>-1.917474</td>\n",
       "      <td>3.1556</td>\n",
       "    </tr>\n",
       "    <tr>\n",
       "      <th>3</th>\n",
       "      <td>Nc1nc(F)co1</td>\n",
       "      <td>3.3212</td>\n",
       "      <td>0.36979</td>\n",
       "      <td>-1.686293</td>\n",
       "      <td>6.2206</td>\n",
       "    </tr>\n",
       "    <tr>\n",
       "      <th>4</th>\n",
       "      <td>CN(C)C(C)=NO</td>\n",
       "      <td>1.4372</td>\n",
       "      <td>0.37153</td>\n",
       "      <td>-2.493961</td>\n",
       "      <td>6.1374</td>\n",
       "    </tr>\n",
       "  </tbody>\n",
       "</table>\n",
       "</div>"
      ],
      "text/plain": [
       "       CC1=CCCCO1  0.9344   0.3937  -2.7334576267  6.5316\n",
       "0    CC(=NN)N1CC1  1.1205  0.36672      -2.379820  6.0081\n",
       "1     NN1C=CCC1=O  4.6177  0.35704      -2.109228  5.4297\n",
       "2  OC(=O)C(=O)C=C  1.0933  0.31060      -1.917474  3.1556\n",
       "3     Nc1nc(F)co1  3.3212  0.36979      -1.686293  6.2206\n",
       "4    CN(C)C(C)=NO  1.4372  0.37153      -2.493961  6.1374"
      ]
     },
     "execution_count": 3,
     "metadata": {},
     "output_type": "execute_result"
    }
   ],
   "source": [
    "file.head()"
   ]
  },
  {
   "cell_type": "code",
   "execution_count": 4,
   "metadata": {},
   "outputs": [
    {
     "data": {
      "text/html": [
       "<div>\n",
       "<style scoped>\n",
       "    .dataframe tbody tr th:only-of-type {\n",
       "        vertical-align: middle;\n",
       "    }\n",
       "\n",
       "    .dataframe tbody tr th {\n",
       "        vertical-align: top;\n",
       "    }\n",
       "\n",
       "    .dataframe thead th {\n",
       "        text-align: right;\n",
       "    }\n",
       "</style>\n",
       "<table border=\"1\" class=\"dataframe\">\n",
       "  <thead>\n",
       "    <tr style=\"text-align: right;\">\n",
       "      <th></th>\n",
       "      <th>CAN_SMILES</th>\n",
       "      <th>prop_1</th>\n",
       "      <th>prop_2</th>\n",
       "      <th>prop_3</th>\n",
       "      <th>prop_4</th>\n",
       "    </tr>\n",
       "  </thead>\n",
       "  <tbody>\n",
       "    <tr>\n",
       "      <th>0</th>\n",
       "      <td>CC(=NN)N1CC1</td>\n",
       "      <td>1.1205</td>\n",
       "      <td>0.36672</td>\n",
       "      <td>-2.379820</td>\n",
       "      <td>6.0081</td>\n",
       "    </tr>\n",
       "    <tr>\n",
       "      <th>1</th>\n",
       "      <td>NN1C=CCC1=O</td>\n",
       "      <td>4.6177</td>\n",
       "      <td>0.35704</td>\n",
       "      <td>-2.109228</td>\n",
       "      <td>5.4297</td>\n",
       "    </tr>\n",
       "    <tr>\n",
       "      <th>2</th>\n",
       "      <td>OC(=O)C(=O)C=C</td>\n",
       "      <td>1.0933</td>\n",
       "      <td>0.31060</td>\n",
       "      <td>-1.917474</td>\n",
       "      <td>3.1556</td>\n",
       "    </tr>\n",
       "    <tr>\n",
       "      <th>3</th>\n",
       "      <td>Nc1nc(F)co1</td>\n",
       "      <td>3.3212</td>\n",
       "      <td>0.36979</td>\n",
       "      <td>-1.686293</td>\n",
       "      <td>6.2206</td>\n",
       "    </tr>\n",
       "    <tr>\n",
       "      <th>4</th>\n",
       "      <td>CN(C)C(C)=NO</td>\n",
       "      <td>1.4372</td>\n",
       "      <td>0.37153</td>\n",
       "      <td>-2.493961</td>\n",
       "      <td>6.1374</td>\n",
       "    </tr>\n",
       "  </tbody>\n",
       "</table>\n",
       "</div>"
      ],
      "text/plain": [
       "       CAN_SMILES  prop_1   prop_2    prop_3  prop_4\n",
       "0    CC(=NN)N1CC1  1.1205  0.36672 -2.379820  6.0081\n",
       "1     NN1C=CCC1=O  4.6177  0.35704 -2.109228  5.4297\n",
       "2  OC(=O)C(=O)C=C  1.0933  0.31060 -1.917474  3.1556\n",
       "3     Nc1nc(F)co1  3.3212  0.36979 -1.686293  6.2206\n",
       "4    CN(C)C(C)=NO  1.4372  0.37153 -2.493961  6.1374"
      ]
     },
     "execution_count": 4,
     "metadata": {},
     "output_type": "execute_result"
    }
   ],
   "source": [
    "file2 = pd.read_csv(\"dataset_train2.csv\")\n",
    "file2.head()"
   ]
  }
 ],
 "metadata": {
  "kernelspec": {
   "display_name": "base",
   "language": "python",
   "name": "python3"
  },
  "language_info": {
   "codemirror_mode": {
    "name": "ipython",
    "version": 3
   },
   "file_extension": ".py",
   "mimetype": "text/x-python",
   "name": "python",
   "nbconvert_exporter": "python",
   "pygments_lexer": "ipython3",
   "version": "3.9.12"
  },
  "orig_nbformat": 4
 },
 "nbformat": 4,
 "nbformat_minor": 2
}
